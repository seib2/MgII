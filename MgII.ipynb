{
 "cells": [
  {
   "cell_type": "code",
   "execution_count": 6,
   "metadata": {},
   "outputs": [],
   "source": [
    "import sympy.functions.special.gamma_functions as sy\n",
    "import matplotlib.pyplot as plt\n",
    "import math"
   ]
  },
  {
   "cell_type": "markdown",
   "metadata": {},
   "source": [
    "Brief outline of derivation following Churchill+99:\n",
    "\n",
    "$$ \\frac{dN}{dX} = f_R(L) \\frac{c \\sigma n}{H_0} $$\n",
    "\n",
    "The 'column density' $n\\sigma$ is given by\n",
    "\n",
    "$$ n \\sigma = \\pi \\int_{L_\\text{min}}^\\infty \\Phi(L) R^2(L) dL $$\n",
    "\n",
    "$\\Phi(L)$ and $R(L)$ are givan by a Schechter and a PL, respectively:\n",
    "\n",
    "$$ \\Phi(L) dL = \\Phi^* (L/L^*)^\\alpha \\text{exp} (-L/L^*) dL$$\n",
    "$$ R(L) = R^* (L/L^*)^\\beta $$\n",
    "\n",
    "Grouping together:\n",
    "\n",
    "$$ n \\sigma = \\pi \\int_{L_\\text{min}}^\\infty \\Phi^* R^{*^2} (L/L^*)^{\\alpha+2\\beta} \\text{exp} (-L/L^*)dL $$\n",
    "$$ = \\pi \\Phi^* R^{*^2} \\Gamma(\\alpha+2\\beta+1 , L_\\text{min}/L^*) $$\n",
    "\n",
    "And finally\n",
    "\n",
    "$$ \\frac{dN}{dX} = f_R(L)\\frac{c \\pi}{H_0} \\Phi^* R^{*^2} \\Gamma(\\alpha+2\\beta+1 , L_\\text{min}/L^*) $$\n",
    "\n",
    "and now only the $\\Gamma$ function depends on $L_\\text{min}$. "
   ]
  },
  {
   "cell_type": "markdown",
   "metadata": {},
   "source": [
    "# For z=5:"
   ]
  },
  {
   "cell_type": "code",
   "execution_count": 7,
   "metadata": {},
   "outputs": [],
   "source": [
    "c = 3E8\n",
    "H0 = 2.1916E-18\n",
    "meters_to_kpc = 3.086E19\n",
    "\n",
    "\n",
    "beta = 0.23\n",
    "alpha = -1.75\n",
    "R_star = 75.0*meters_to_kpc\n",
    "f_R = 0.84\n",
    "phi_star = (10.0**(-3.12))/((1000.0*meters_to_kpc)**3.0)"
   ]
  },
  {
   "cell_type": "code",
   "execution_count": 8,
   "metadata": {},
   "outputs": [],
   "source": [
    "gamma_arg = alpha+(2.0*beta)+1.0"
   ]
  },
  {
   "cell_type": "code",
   "execution_count": 9,
   "metadata": {},
   "outputs": [],
   "source": [
    "l_ratio = [0.001,0.005,0.01,0.03,0.06,0.1,0.2,0.5,0.6,0.7,1.0,1.5]\n",
    "dNdX = [0]*len(l_ratio)"
   ]
  },
  {
   "cell_type": "code",
   "execution_count": 11,
   "metadata": {},
   "outputs": [],
   "source": [
    "for i in range(len(l_ratio)):\n",
    "    dNdX[i] = (c*math.pi/H0)*f_R*(R_star**2)*phi_star*sy.uppergamma(gamma_arg,l_ratio[i])"
   ]
  },
  {
   "cell_type": "code",
   "execution_count": 12,
   "metadata": {},
   "outputs": [
    {
     "data": {
      "image/png": "[encoded data removed]",
      "text/plain": [
       "<matplotlib.figure.Figure at 0x7fa7018a4978>"
      ]
     },
     "metadata": {},
     "output_type": "display_data"
    }
   ],
   "source": [
    "a=[0.8-0.18]*len(l_ratio)\n",
    "b=[0.86+0.19]*len(l_ratio)\n",
    "plt.plot(l_ratio,dNdX,l_ratio,a,l_ratio,b)\n",
    "plt.xscale('log')\n",
    "plt.yscale('log')\n",
    "plt.ylim(0.0008,30)\n",
    "plt.xlim(0.008,3.0)\n",
    "plt.show()"
   ]
  },
  {
   "cell_type": "code",
   "execution_count": null,
   "metadata": {},
   "outputs": [],
   "source": []
  }
 ],
 "metadata": {
  "kernelspec": {
   "display_name": "Python 3",
   "language": "python",
   "name": "python3"
  },
  "language_info": {
   "codemirror_mode": {
    "name": "ipython",
    "version": 3
   },
   "file_extension": ".py",
   "mimetype": "text/x-python",
   "name": "python",
   "nbconvert_exporter": "python",
   "pygments_lexer": "ipython3",
   "version": "3.6.2"
  }
 },
 "nbformat": 4,
 "nbformat_minor": 2
}
